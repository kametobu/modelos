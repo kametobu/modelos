{
 "cells": [
  {
   "cell_type": "code",
   "execution_count": 157,
   "metadata": {},
   "outputs": [],
   "source": [
    "import pandas as pd\n",
    "import datetime\n",
    "from dateutil import relativedelta\n",
    "import random"
   ]
  },
  {
   "cell_type": "code",
   "execution_count": 158,
   "metadata": {},
   "outputs": [],
   "source": [
    "df = pd.DataFrame(columns=[\"data_hora\", \"valor\"])"
   ]
  },
  {
   "cell_type": "code",
   "execution_count": 159,
   "metadata": {},
   "outputs": [],
   "source": [
    "data_i = datetime.datetime.strptime(\"2022-02-07 00:00\", \"%Y-%m-%d %H:%M\")\n",
    "data_f = datetime.datetime.strptime(\"2022-02-17 23:59\", \"%Y-%m-%d %H:%M\")\n",
    "\n",
    "datas = [data_i]\n",
    "\n",
    "while data_f > data_i:\n",
    "    add_temp = relativedelta.relativedelta(minutes=1)\n",
    "    data_i += add_temp\n",
    "    datas.append(data_i)"
   ]
  },
  {
   "cell_type": "code",
   "execution_count": 160,
   "metadata": {},
   "outputs": [
    {
     "data": {
      "text/plain": [
       "15840"
      ]
     },
     "execution_count": 160,
     "metadata": {},
     "output_type": "execute_result"
    }
   ],
   "source": [
    "len(datas)"
   ]
  },
  {
   "cell_type": "code",
   "execution_count": 161,
   "metadata": {},
   "outputs": [],
   "source": [
    "df[\"data_hora\"] = datas"
   ]
  },
  {
   "cell_type": "code",
   "execution_count": 162,
   "metadata": {},
   "outputs": [],
   "source": [
    "df[\"valor\"] = df.apply(lambda x: round(random.uniform(-40, -38),4), axis=1)"
   ]
  },
  {
   "cell_type": "code",
   "execution_count": 163,
   "metadata": {},
   "outputs": [],
   "source": [
    "#print(len(df[\"valor\"]))\n",
    "#for i in range(4,len(df[\"valor\"]), 204):\n",
    "#    df[\"valor\"][i:i+4] = round(random.uniform(-30, -32),4) , round(random.uniform(-32, -34),4) ,round(random.uniform(-34, -36),4) , round(random.uniform(-36, -38),4)"
   ]
  },
  {
   "cell_type": "code",
   "execution_count": 164,
   "metadata": {},
   "outputs": [],
   "source": [
    "df.to_csv(\"medidas_minuto_1.csv\", index=False)"
   ]
  }
 ],
 "metadata": {
  "kernelspec": {
   "display_name": "Python 3",
   "language": "python",
   "name": "python3"
  },
  "language_info": {
   "codemirror_mode": {
    "name": "ipython",
    "version": 3
   },
   "file_extension": ".py",
   "mimetype": "text/x-python",
   "name": "python",
   "nbconvert_exporter": "python",
   "pygments_lexer": "ipython3",
   "version": "3.12.2"
  }
 },
 "nbformat": 4,
 "nbformat_minor": 2
}
